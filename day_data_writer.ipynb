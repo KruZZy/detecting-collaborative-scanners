{
 "cells": [
  {
   "cell_type": "code",
   "execution_count": 1,
   "id": "5383105e-5e45-4ca3-8100-e21c2cbdc56f",
   "metadata": {},
   "outputs": [],
   "source": [
    "import pandas as pd\n",
    "import matplotlib.pyplot as plt\n",
    "from clickhouse_driver import Client\n",
    "from IPython.display import display\n",
    "\n",
    "client = Client(host='',database=\"february2024\",user=\"\",password=\"\",\n",
    "client_name=\"python-driver from avisoiu\")\n",
    "\n",
    "\n",
    "def write_day_output(date):\n",
    "    display(\"Querying \" + date + \"\\n\")\n",
    "    output = client.query_dataframe(\"\"\"\n",
    "        WITH\n",
    "        each_packet AS (\n",
    "            SELECT\n",
    "                SrcIP,\n",
    "                Timestamp,\n",
    "                DstIP,\n",
    "                DstPort,\n",
    "                SrcPort,\n",
    "                Payload,\n",
    "                any(Timestamp) OVER (PARTITION BY SrcIP ORDER BY Timestamp ASC ROWS BETWEEN 1 PRECEDING AND 1 PRECEDING) as PrevTimestamp,\n",
    "                any(DstIP) OVER (PARTITION BY SrcIP ORDER BY Timestamp ASC ROWS BETWEEN 1 PRECEDING AND 1 PRECEDING) as PrevDstIP,\n",
    "                if(toDate(PrevTimestamp) = '1970-01-01', NULL, age('ms', PrevTimestamp, Timestamp)) as TimeDiff,\n",
    "                if(PrevDstIP = 0, NULL, DstIP - PrevDstIP) as DistanceToPrevDest,\n",
    "                multiIf(\n",
    "                    -- zmap - IPId static to 54321 - survey\n",
    "                    IPId = 54321,\n",
    "                    1,\n",
    "                    -- massscan - IPId = dest addr xor dest port xor tcp seq - survey\n",
    "                    IPId = bitXor(DstIP, bitXor(DstPort, Seq)),\n",
    "                    2,\n",
    "                    -- hajime - attack botnet\n",
    "                    Window = 14600,\n",
    "                    3,\n",
    "                    -- Mozi botnet\n",
    "                    Window = 29040 OR Window = 14520,\n",
    "                    4,\n",
    "                    -- atk03\n",
    "                    bitXor(DstIP, Seq) = 3232235778 AND Window = 1300,\n",
    "                    5,\n",
    "                    -- atk05\n",
    "                    Seq = 333994513,\n",
    "                    6,\n",
    "                    -- atk06\n",
    "                    Seq = 30000 AND Window = 65535,\n",
    "                    7,\n",
    "                    -- surv01\n",
    "                    Window = 0,\n",
    "                    8,\n",
    "                    -- surv02\n",
    "                    Seq = 100 AND IPId = 123 AND Window = 1024,\n",
    "                    9,\n",
    "                    -- Mirai\n",
    "                    bitXor(DstIP, Seq) = 0,\n",
    "                    10,\n",
    "                    -- other\n",
    "                    11\n",
    "                ) as tool_fingerprint\n",
    "            FROM tcppackets\n",
    "            WHERE SYN = true\n",
    "                    AND ACK = False\n",
    "                    AND toDate(Timestamp) = '\"\"\"+date+\"\"\"'\n",
    "        )\n",
    "    SELECT SrcIP as src_ip,\n",
    "           -- 4294967040 - 255.255.255.0 subnet mask\n",
    "           toUInt32(bitAnd(src_ip, 4294967040)) as subnet,\n",
    "           i.ASN as asn,\n",
    "           i.Country as country,\n",
    "           i.City as city,\n",
    "           age('s', min(Timestamp), max(Timestamp)) as scan_length_seconds,\n",
    "           toHour(min(Timestamp)) as start_hour,\n",
    "           toHour(max(Timestamp)) as end_hour,\n",
    "           median(TimeDiff) as median_time_diff,\n",
    "           COUNT(DISTINCT SrcPort) as distinct_src_ports,\n",
    "           COUNT(DISTINCT DstPort) as distinct_dest_ports,\n",
    "           arrayElement(topK(1)(toUInt32(DstPort)), 1) as top_port,\n",
    "           quantileExact(0.25)(DistanceToPrevDest) as q1_prev_ip,\n",
    "           median(DistanceToPrevDest) AS median_prev_ip,\n",
    "           quantileExact(0.75)(DistanceToPrevDest) as q3_prev_ip,\n",
    "           COUNT(DISTINCT DstIP) as distinct_ips,\n",
    "           COUNT(*) as total_hits,\n",
    "           total_hits/distinct_ips as probes_per_ip,\n",
    "           COUNT(DISTINCT tool_fingerprint) as distinct_fingerprints,\n",
    "           arrayElement(topK(1)(tool_fingerprint), 1) as top_fingerprint,\n",
    "           COUNT(DISTINCT Payload) as distinct_payloads,\n",
    "           avg(length(Payload)) as avg_payload_length,\n",
    "           arrayElement(topK(1)(Payload), 1) as favorite_payload,\n",
    "           abs(q3_prev_ip) - abs(q1_prev_ip) as q1q3_delta,\n",
    "           multiIf(\n",
    "            -- pure sequential\n",
    "            median_prev_ip = 1 AND q1_prev_ip = 1 AND q3_prev_ip = 1,\n",
    "            1,\n",
    "            -- patterned sequential\n",
    "            median_prev_ip = 1 AND q1q3_delta < 0.1 * abs(q1_prev_ip),\n",
    "            2,\n",
    "            -- jumpy sequential\n",
    "            median_prev_ip = 1 AND q1q3_delta > 0.1 * abs(q1_prev_ip),\n",
    "            3,\n",
    "            -- slow\n",
    "            median_prev_ip = 0 AND q1_prev_ip = 0 AND q3_prev_ip = 0,\n",
    "            4,\n",
    "            -- random uniform\n",
    "            q1q3_delta < 0.1 * abs(q1_prev_ip),\n",
    "            5,\n",
    "            -- other\n",
    "            6\n",
    "           ) as generation_algorithm\n",
    "    FROM each_packet p\n",
    "    JOIN ipinfo i ON i.SrcIP = p.SrcIP AND toDate(i.Timestamp) = '\"\"\"+date+\"\"\"'\n",
    "    GROUP BY SrcIP, i.ASN, i.Country, i.City\n",
    "    HAVING total_hits > 1\n",
    "    \"\"\")\n",
    "    output.to_csv(\"day_data/\"+date+\".csv\") \n",
    "    display(date + \" written to csv\\n\")\n"
   ]
  },
  {
   "cell_type": "code",
   "execution_count": 2,
   "id": "e9e2194c-a0ea-4040-b8be-4df55e55fdde",
   "metadata": {},
   "outputs": [],
   "source": [
    "empty_df = pd.DataFrame()\n",
    "empty_df.to_csv(\"day_data/test.csv\")"
   ]
  },
  {
   "cell_type": "code",
   "execution_count": 3,
   "id": "bccb9364-fa06-43e6-886b-8736891c551f",
   "metadata": {},
   "outputs": [
    {
     "data": {
      "text/plain": [
       "'Aggregating data by day...\\n'"
      ]
     },
     "metadata": {},
     "output_type": "display_data"
    },
    {
     "data": {
      "text/plain": [
       "'Querying 2024-02-01\\n'"
      ]
     },
     "metadata": {},
     "output_type": "display_data"
    },
    {
     "data": {
      "text/plain": [
       "'2024-02-01 written to csv\\n'"
      ]
     },
     "metadata": {},
     "output_type": "display_data"
    },
    {
     "data": {
      "text/plain": [
       "'Querying 2024-02-02\\n'"
      ]
     },
     "metadata": {},
     "output_type": "display_data"
    },
    {
     "data": {
      "text/plain": [
       "'2024-02-02 written to csv\\n'"
      ]
     },
     "metadata": {},
     "output_type": "display_data"
    },
    {
     "data": {
      "text/plain": [
       "'Querying 2024-02-03\\n'"
      ]
     },
     "metadata": {},
     "output_type": "display_data"
    },
    {
     "data": {
      "text/plain": [
       "'2024-02-03 written to csv\\n'"
      ]
     },
     "metadata": {},
     "output_type": "display_data"
    },
    {
     "data": {
      "text/plain": [
       "'Querying 2024-02-04\\n'"
      ]
     },
     "metadata": {},
     "output_type": "display_data"
    },
    {
     "data": {
      "text/plain": [
       "'2024-02-04 written to csv\\n'"
      ]
     },
     "metadata": {},
     "output_type": "display_data"
    },
    {
     "data": {
      "text/plain": [
       "'Querying 2024-02-05\\n'"
      ]
     },
     "metadata": {},
     "output_type": "display_data"
    },
    {
     "data": {
      "text/plain": [
       "'2024-02-05 written to csv\\n'"
      ]
     },
     "metadata": {},
     "output_type": "display_data"
    },
    {
     "data": {
      "text/plain": [
       "'Querying 2024-02-06\\n'"
      ]
     },
     "metadata": {},
     "output_type": "display_data"
    },
    {
     "data": {
      "text/plain": [
       "'2024-02-06 written to csv\\n'"
      ]
     },
     "metadata": {},
     "output_type": "display_data"
    },
    {
     "data": {
      "text/plain": [
       "'Querying 2024-02-07\\n'"
      ]
     },
     "metadata": {},
     "output_type": "display_data"
    },
    {
     "data": {
      "text/plain": [
       "'2024-02-07 written to csv\\n'"
      ]
     },
     "metadata": {},
     "output_type": "display_data"
    },
    {
     "data": {
      "text/plain": [
       "'Querying 2024-02-08\\n'"
      ]
     },
     "metadata": {},
     "output_type": "display_data"
    },
    {
     "data": {
      "text/plain": [
       "'2024-02-08 written to csv\\n'"
      ]
     },
     "metadata": {},
     "output_type": "display_data"
    },
    {
     "data": {
      "text/plain": [
       "'Querying 2024-02-09\\n'"
      ]
     },
     "metadata": {},
     "output_type": "display_data"
    },
    {
     "data": {
      "text/plain": [
       "'2024-02-09 written to csv\\n'"
      ]
     },
     "metadata": {},
     "output_type": "display_data"
    },
    {
     "data": {
      "text/plain": [
       "'Querying 2024-02-10\\n'"
      ]
     },
     "metadata": {},
     "output_type": "display_data"
    },
    {
     "data": {
      "text/plain": [
       "'2024-02-10 written to csv\\n'"
      ]
     },
     "metadata": {},
     "output_type": "display_data"
    },
    {
     "data": {
      "text/plain": [
       "'Querying 2024-02-11\\n'"
      ]
     },
     "metadata": {},
     "output_type": "display_data"
    },
    {
     "data": {
      "text/plain": [
       "'2024-02-11 written to csv\\n'"
      ]
     },
     "metadata": {},
     "output_type": "display_data"
    },
    {
     "data": {
      "text/plain": [
       "'Querying 2024-02-12\\n'"
      ]
     },
     "metadata": {},
     "output_type": "display_data"
    },
    {
     "data": {
      "text/plain": [
       "'2024-02-12 written to csv\\n'"
      ]
     },
     "metadata": {},
     "output_type": "display_data"
    },
    {
     "data": {
      "text/plain": [
       "'Querying 2024-02-13\\n'"
      ]
     },
     "metadata": {},
     "output_type": "display_data"
    },
    {
     "data": {
      "text/plain": [
       "'2024-02-13 written to csv\\n'"
      ]
     },
     "metadata": {},
     "output_type": "display_data"
    },
    {
     "data": {
      "text/plain": [
       "'Querying 2024-02-14\\n'"
      ]
     },
     "metadata": {},
     "output_type": "display_data"
    },
    {
     "data": {
      "text/plain": [
       "'2024-02-14 written to csv\\n'"
      ]
     },
     "metadata": {},
     "output_type": "display_data"
    },
    {
     "data": {
      "text/plain": [
       "'Querying 2024-02-15\\n'"
      ]
     },
     "metadata": {},
     "output_type": "display_data"
    },
    {
     "data": {
      "text/plain": [
       "'2024-02-15 written to csv\\n'"
      ]
     },
     "metadata": {},
     "output_type": "display_data"
    },
    {
     "data": {
      "text/plain": [
       "'Querying 2024-02-16\\n'"
      ]
     },
     "metadata": {},
     "output_type": "display_data"
    },
    {
     "data": {
      "text/plain": [
       "'2024-02-16 written to csv\\n'"
      ]
     },
     "metadata": {},
     "output_type": "display_data"
    },
    {
     "data": {
      "text/plain": [
       "'Querying 2024-02-17\\n'"
      ]
     },
     "metadata": {},
     "output_type": "display_data"
    },
    {
     "data": {
      "text/plain": [
       "'2024-02-17 written to csv\\n'"
      ]
     },
     "metadata": {},
     "output_type": "display_data"
    },
    {
     "data": {
      "text/plain": [
       "'Querying 2024-02-18\\n'"
      ]
     },
     "metadata": {},
     "output_type": "display_data"
    },
    {
     "data": {
      "text/plain": [
       "'2024-02-18 written to csv\\n'"
      ]
     },
     "metadata": {},
     "output_type": "display_data"
    },
    {
     "data": {
      "text/plain": [
       "'Querying 2024-02-19\\n'"
      ]
     },
     "metadata": {},
     "output_type": "display_data"
    },
    {
     "data": {
      "text/plain": [
       "'2024-02-19 written to csv\\n'"
      ]
     },
     "metadata": {},
     "output_type": "display_data"
    },
    {
     "data": {
      "text/plain": [
       "'Querying 2024-02-20\\n'"
      ]
     },
     "metadata": {},
     "output_type": "display_data"
    },
    {
     "data": {
      "text/plain": [
       "'2024-02-20 written to csv\\n'"
      ]
     },
     "metadata": {},
     "output_type": "display_data"
    },
    {
     "data": {
      "text/plain": [
       "'Done!\\n'"
      ]
     },
     "metadata": {},
     "output_type": "display_data"
    }
   ],
   "source": [
    "from datetime import datetime, timedelta \n",
    "\n",
    "def calculate_for_dates(start_date, num_days):\n",
    "    current_date = datetime.strptime(start_date, \"%Y-%m-%d\")\n",
    "    for _ in range(num_days):\n",
    "        write_day_output(current_date.strftime(\"%Y-%m-%d\"))\n",
    "        current_date += timedelta(days=1) \n",
    "\n",
    "display(\"Aggregating data by day...\\n\")\n",
    "calculate_for_dates(\"2024-02-01\", 20) \n",
    "display(\"Done!\\n\")\n",
    "\n"
   ]
  },
  {
   "cell_type": "code",
   "execution_count": null,
   "id": "9f07fa9d-d2ce-431a-bd84-3eaeaf8bf6a4",
   "metadata": {},
   "outputs": [],
   "source": []
  }
 ],
 "metadata": {
  "kernelspec": {
   "display_name": "Python 3 (ipykernel)",
   "language": "python",
   "name": "python3"
  },
  "language_info": {
   "codemirror_mode": {
    "name": "ipython",
    "version": 3
   },
   "file_extension": ".py",
   "mimetype": "text/x-python",
   "name": "python",
   "nbconvert_exporter": "python",
   "pygments_lexer": "ipython3",
   "version": "3.10.12"
  }
 },
 "nbformat": 4,
 "nbformat_minor": 5
}
